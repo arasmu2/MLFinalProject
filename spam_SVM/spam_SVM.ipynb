{
 "cells": [
  {
   "cell_type": "code",
   "execution_count": 1,
   "id": "45e3a92b",
   "metadata": {},
   "outputs": [],
   "source": [
    "import numpy as np\n",
    "import pandas as pd\n",
    "import time\n",
    "from cvxopt import matrix\n",
    "from cvxopt import solvers"
   ]
  },
  {
   "cell_type": "code",
   "execution_count": 2,
   "id": "e09426e6",
   "metadata": {},
   "outputs": [],
   "source": [
    "df = pd.read_csv('spambase.data',header=None).to_numpy()"
   ]
  },
  {
   "cell_type": "code",
   "execution_count": 3,
   "id": "e7c1dc16",
   "metadata": {},
   "outputs": [],
   "source": [
    "#set random seed\n",
    "np.random.seed(1023)\n",
    "#turn off output of qp solver\n",
    "solvers.options['show_progress'] = False"
   ]
  },
  {
   "cell_type": "code",
   "execution_count": 4,
   "id": "8ae48961",
   "metadata": {},
   "outputs": [],
   "source": [
    "#separate data and labels\n",
    "X = df[:,0:57]\n",
    "y = df[:,57]\n",
    "#change labels to -1 and 1\n",
    "y = 2*y - 1"
   ]
  },
  {
   "cell_type": "code",
   "execution_count": 5,
   "id": "6f47ada6",
   "metadata": {},
   "outputs": [],
   "source": [
    "#separate training and test data\n",
    "split = .67\n",
    "N = X.shape[0]\n",
    "#get dimension of data\n",
    "d = X.shape[1]\n",
    "idx = np.random.choice(np.arange(N),size=int(np.floor(split*N)),replace=False)\n",
    "test_idx = np.setdiff1d(np.arange(N), idx)\n",
    "#split data\n",
    "X_train = X[idx,:]\n",
    "X_test = X[test_idx,:]\n",
    "#split labels\n",
    "y_train = y[idx]\n",
    "y_test = y[test_idx]\n",
    "#set up some constants\n",
    "N_train = X_train.shape[0]\n",
    "N_test = X_test.shape[0]"
   ]
  },
  {
   "cell_type": "code",
   "execution_count": 6,
   "id": "a59698d8",
   "metadata": {},
   "outputs": [],
   "source": [
    "#standardize data for better results\n",
    "mean = np.mean(X_train,axis=0)\n",
    "std = np.std(X_train,axis=0)\n",
    "X_train = 1/std*(X_train-mean)\n",
    "X_test = 1/std*(X_test- mean)"
   ]
  },
  {
   "cell_type": "code",
   "execution_count": 7,
   "id": "44669e62",
   "metadata": {},
   "outputs": [],
   "source": [
    "#set sigmoid kernel parameters \n",
    "sigmoid_sigma = 0\n",
    "sigmoid_kappa = 1/N_train"
   ]
  },
  {
   "cell_type": "code",
   "execution_count": 8,
   "id": "7a2e94f6",
   "metadata": {},
   "outputs": [],
   "source": [
    "#kernels\n",
    "#Gaussian kernel\n",
    "def K1(x,y,sigma=1):\n",
    "    return np.exp(-1/(2*sigma**2)*np.linalg.norm(x-y,axis=1)**2)\n",
    "#polynomial kernel\n",
    "def K2(x,y,sigma=0,d=2):\n",
    "    return (np.sum(x*y,axis=1)+sigma)**d\n",
    "#linear kernel\n",
    "def K3(x,y,sigma=0):\n",
    "    return np.sum(x*y,axis=1)+sigma\n",
    "#sigmoid kernel\n",
    "def K4(x,y,sigma=sigmoid_sigma,kappa=sigmoid_kappa):\n",
    "    return np.tanh(kappa*np.sum(x*y,axis=1)+sigma)"
   ]
  },
  {
   "cell_type": "code",
   "execution_count": 9,
   "id": "31731a6f",
   "metadata": {},
   "outputs": [],
   "source": [
    "#functions for gram matrices \n",
    "#Gaussian kernel GM\n",
    "def gramK1(X,sigma=1):\n",
    "    return np.exp(-1/(2*sigma**2)*np.linalg.norm(X.T-X[:,:,None],axis=1)**2)\n",
    "#polynomial kernel gram matrix\n",
    "def gramK2(X,sigma=0,d=2):\n",
    "    return (np.sum(X.T*X[:,:,None],axis=1)+sigma)**d\n",
    "#linear kernel GM\n",
    "def gramK3(X,sigma=0):\n",
    "    return np.sum(X.T*X[:,:,None],axis=1)+sigma\n",
    "#sigmoid GM\n",
    "def gramK4(X,sigma=sigmoid_sigma,kappa=sigmoid_kappa):\n",
    "    return np.tanh(kappa*np.sum(X.T*X[:,:,None],axis=1)+ sigma)"
   ]
  },
  {
   "cell_type": "code",
   "execution_count": 10,
   "id": "e5c977b1",
   "metadata": {},
   "outputs": [],
   "source": [
    "def predict(x,X,alpha,y,K):\n",
    "    x_rep = np.repeat(x,N_train,axis=0)\n",
    "    kern_vec = K(x_rep,X)\n",
    "    return np.sign(alpha.T@(y*kern_vec))"
   ]
  },
  {
   "cell_type": "code",
   "execution_count": 11,
   "id": "a1a6ec7a",
   "metadata": {},
   "outputs": [],
   "source": [
    "#kernel dictionary\n",
    "kern_dict = {'gaussian':'K1','polynomial':'K2','linear':'K3','sigmoid':'K4'}\n",
    "#Gram matrix dictionary\n",
    "GM_dict = {'gaussian':'gramK1','polynomial':'gramK2', 'linear':'gramK3','sigmoid':'gramK4'}"
   ]
  },
  {
   "cell_type": "code",
   "execution_count": 12,
   "id": "9480fb8b",
   "metadata": {},
   "outputs": [
    {
     "name": "stdout",
     "output_type": "stream",
     "text": [
      "kernel:gaussian \tC:1.0\n",
      "kernel:gaussian \tC:10.0\n",
      "kernel:gaussian \tC:100.0\n",
      "kernel:gaussian \tC:1000.0\n",
      "kernel:gaussian \tC:10000.0\n",
      "kernel:gaussian \tC:100000.0\n",
      "kernel:gaussian \tC:1000000.0\n",
      "kernel:gaussian \tC:10000000.0\n",
      "kernel:gaussian \tC:100000000.0\n",
      "kernel:polynomial \tC:1.0\n",
      "kernel:polynomial \tC:10.0\n",
      "kernel:polynomial \tC:100.0\n",
      "kernel:polynomial \tC:1000.0\n",
      "kernel:polynomial \tC:10000.0\n",
      "kernel:polynomial \tC:100000.0\n",
      "kernel:polynomial \tC:1000000.0\n",
      "kernel:polynomial \tC:10000000.0\n",
      "kernel:polynomial \tC:100000000.0\n",
      "kernel:linear \tC:1.0\n",
      "kernel:linear \tC:10.0\n",
      "kernel:linear \tC:100.0\n",
      "kernel:linear \tC:1000.0\n",
      "kernel:linear \tC:10000.0\n",
      "kernel:linear \tC:100000.0\n",
      "kernel:linear \tC:1000000.0\n",
      "kernel:linear \tC:10000000.0\n",
      "kernel:linear \tC:100000000.0\n",
      "kernel:sigmoid \tC:1.0\n",
      "kernel:sigmoid \tC:10.0\n",
      "kernel:sigmoid \tC:100.0\n",
      "kernel:sigmoid \tC:1000.0\n",
      "kernel:sigmoid \tC:10000.0\n",
      "kernel:sigmoid \tC:100000.0\n",
      "kernel:sigmoid \tC:1000000.0\n",
      "kernel:sigmoid \tC:10000000.0\n",
      "kernel:sigmoid \tC:100000000.0\n"
     ]
    }
   ],
   "source": [
    "#stolen from sam\n",
    "Cs_to_test = [1.0, 10.0, 100.0,1000.0,10.**4,10.**5,10.**6,10.**7,10.**8]\n",
    "results = pd.DataFrame(columns=['kernel','C','accuracy','comp time'])\n",
    "for kernel in kern_dict.keys():\n",
    "    #set kernel \n",
    "    K = eval(kern_dict[kernel])\n",
    "    #specify gram matrix function to use\n",
    "    GM = eval(GM_dict[kernel])\n",
    "    #regularization hyperparameter\n",
    "    for C in Cs_to_test:\n",
    "        start_time = time.time()\n",
    "        #get Gram matrix\n",
    "        #Technically, we don't have to compute the Gram matrix for each C; just once is enough\n",
    "        #But we want computation time to include forming the Gram matrix\n",
    "        gram = GM(X_train)\n",
    "        print('kernel:' + kernel + \" \\tC:\" + str(C))\n",
    "        #set up and solve SVM optimization problem\n",
    "        P = matrix(y_train[:,None]@y_train[None,:]*gram)\n",
    "        q = matrix(-np.ones(N_train))\n",
    "        G = matrix(np.concatenate([np.eye(N_train),-np.eye(N_train)],axis=0))\n",
    "        h = matrix(np.concatenate([C*(1/N_train)*np.ones(N_train),np.zeros(N_train)]))\n",
    "        A = matrix(y_train[None,:])\n",
    "        b = matrix(np.zeros(1)[None,:])\n",
    "        sol = solvers.qp(P,q,G,h,A,b)\n",
    "        #get solution alpha\n",
    "        alpha = sol['x']\n",
    "        #convert solution back to numpy\n",
    "        alpha = np.array(alpha)\n",
    "        #get run time\n",
    "        run_time = time.time() - start_time\n",
    "        \n",
    "        #evalutate model\n",
    "        num_correct = 0\n",
    "        for i in range(N_test):\n",
    "            pred = predict(X_test[None,i,:],X_train,alpha,y_train,K)\n",
    "            if y_test[i] == pred:\n",
    "                num_correct = num_correct + 1\n",
    "        acc = 100*num_correct/N_test\n",
    "        #save results\n",
    "        results = results.append({'kernel':kernel, 'C':C,'accuracy':acc,'comp time':run_time},ignore_index=True)"
   ]
  },
  {
   "cell_type": "code",
   "execution_count": 13,
   "id": "69c1a4ed",
   "metadata": {},
   "outputs": [],
   "source": [
    "results.to_csv('results.csv')"
   ]
  },
  {
   "cell_type": "code",
   "execution_count": null,
   "id": "681ea934",
   "metadata": {},
   "outputs": [],
   "source": []
  }
 ],
 "metadata": {
  "kernelspec": {
   "display_name": "Python 3 (ipykernel)",
   "language": "python",
   "name": "python3"
  },
  "language_info": {
   "codemirror_mode": {
    "name": "ipython",
    "version": 3
   },
   "file_extension": ".py",
   "mimetype": "text/x-python",
   "name": "python",
   "nbconvert_exporter": "python",
   "pygments_lexer": "ipython3",
   "version": "3.8.12"
  }
 },
 "nbformat": 4,
 "nbformat_minor": 5
}
