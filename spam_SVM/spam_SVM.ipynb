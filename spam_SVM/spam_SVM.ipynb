{
 "cells": [
  {
   "cell_type": "code",
   "execution_count": 1,
   "id": "45e3a92b",
   "metadata": {},
   "outputs": [],
   "source": [
    "import numpy as np\n",
    "import pandas as pd\n",
    "import cvxopt as cvx\n",
    "from cvxopt import matrix\n",
    "from cvxopt import solvers"
   ]
  },
  {
   "cell_type": "code",
   "execution_count": 2,
   "id": "e09426e6",
   "metadata": {},
   "outputs": [],
   "source": [
    "df = pd.read_csv('spambase.data',header=None).to_numpy()"
   ]
  },
  {
   "cell_type": "code",
   "execution_count": 3,
   "id": "8ae48961",
   "metadata": {},
   "outputs": [],
   "source": [
    "#separate data and labels\n",
    "X = df[:,0:57]\n",
    "y = df[:,57]\n",
    "#change labels to -1 and 1\n",
    "y = 2*y - 1"
   ]
  },
  {
   "cell_type": "code",
   "execution_count": 4,
   "id": "6f47ada6",
   "metadata": {},
   "outputs": [],
   "source": [
    "#separate training and test data\n",
    "split = .5\n",
    "N = X.shape[0]\n",
    "d = X.shape[1]\n",
    "idx = np.random.choice(np.arange(N),size=int(np.floor(split*N)),replace=False)\n",
    "test_idx = np.setdiff1d(np.arange(N), idx)\n",
    "#split data\n",
    "X_train = X[idx,:]\n",
    "X_test = X[test_idx,:]\n",
    "#split labels\n",
    "y_train = y[idx]\n",
    "y_test = y[test_idx]\n",
    "#set up some constants\n",
    "N_train = X_train.shape[0]\n",
    "N_test = X_test.shape[0]"
   ]
  },
  {
   "cell_type": "code",
   "execution_count": 5,
   "id": "a59698d8",
   "metadata": {},
   "outputs": [],
   "source": [
    "#standardize data for better results\n",
    "mean = np.mean(X_train,axis=0)\n",
    "std = np.std(X_train,axis=0)\n",
    "X_train = 1/std*(X_train-mean)\n",
    "X_test = 1/std*(X_test- mean)"
   ]
  },
  {
   "cell_type": "code",
   "execution_count": 6,
   "id": "7a2e94f6",
   "metadata": {},
   "outputs": [],
   "source": [
    "#kernels\n",
    "#Gaussian kernel\n",
    "def K1(x,y,sigma=1):\n",
    "    return np.exp(-1/(2*sigma**2)*np.linalg.norm(x-y,axis=1)**2)\n",
    "#polynomial kernel\n",
    "def K2(x,y,sigma=0,d=2):\n",
    "    return (np.sum(x*y,axis=1)+sigma)**d\n",
    "#linear kernel\n",
    "def K3(x,y,sigma=0):\n",
    "    return np.sum(x*y,axis=1)+sigma\n",
    "#sigmoid kernel\n",
    "def K4(x,y,sigma=-1,kappa=1):\n",
    "    return np.tanh(kappa*np.sum(x*y,axis=1)+sigma)"
   ]
  },
  {
   "cell_type": "code",
   "execution_count": 7,
   "id": "31731a6f",
   "metadata": {},
   "outputs": [],
   "source": [
    "#functions for gram matrices \n",
    "#Gaussian kernel GM\n",
    "def gramK1(X,sigma=1):\n",
    "    return np.exp(-1/(2*sigma**2)*np.linalg.norm(X.T-X[:,:,None],axis=1)**2)\n",
    "#polynomial kernel gram matrix\n",
    "def gramK2(X,sigma=0,d=2):\n",
    "    return (np.sum(X.T*X[:,:,None],axis=1)+sigma)**d\n",
    "#linear kernel GM\n",
    "def gramK3(X,sigma=0):\n",
    "    return np.sum(X.T*X[:,:,None],axis=1)+sigma\n",
    "#sigmoid GM\n",
    "def gramK4(X,sigma=-1,kappa=1):\n",
    "    return np.tanh(kappa*np.sum(X.T*X[:,:,None],axis=1)+ sigma)"
   ]
  },
  {
   "cell_type": "code",
   "execution_count": 8,
   "id": "a1a6ec7a",
   "metadata": {},
   "outputs": [],
   "source": [
    "#kernel dictionary\n",
    "kern_dict = {'gaussian':'K1','polynomial':'K2','linear':'K3','sigmoid':'K4'}\n",
    "#gram matrix dictionary\n",
    "GM_dict = {'gaussian':'gramK1','polynomial':'gramK2', 'linear':'gramK3','sigmoid':'gramK4'}"
   ]
  },
  {
   "cell_type": "code",
   "execution_count": 9,
   "id": "9480fb8b",
   "metadata": {},
   "outputs": [],
   "source": [
    "kernel = 'gramK1'\n",
    "#specify kernel to use\n",
    "GM = eval(kernel)\n",
    "gram = GM(X_train)"
   ]
  },
  {
   "cell_type": "code",
   "execution_count": 10,
   "id": "69c1a4ed",
   "metadata": {},
   "outputs": [],
   "source": [
    "#regularization hyperparameter\n",
    "C = 100"
   ]
  },
  {
   "cell_type": "code",
   "execution_count": 11,
   "id": "b18986ba",
   "metadata": {},
   "outputs": [
    {
     "name": "stdout",
     "output_type": "stream",
     "text": [
      "     pcost       dcost       gap    pres   dres\n",
      " 0: -4.8977e+02 -3.4968e+02  2e+04  6e+01  2e-15\n",
      " 1: -1.5767e+02 -2.5164e+02  1e+03  3e+00  1e-15\n",
      " 2: -7.2611e+01 -1.8843e+02  1e+02  2e-15  4e-15\n",
      " 3: -7.6784e+01 -8.8261e+01  1e+01  7e-16  2e-15\n",
      " 4: -7.7593e+01 -8.1274e+01  4e+00  4e-16  9e-16\n",
      " 5: -7.8013e+01 -7.8998e+01  1e+00  2e-15  1e-15\n",
      " 6: -7.8188e+01 -7.8419e+01  2e-01  6e-16  1e-15\n",
      " 7: -7.8225e+01 -7.8318e+01  9e-02  3e-16  1e-15\n",
      " 8: -7.8240e+01 -7.8280e+01  4e-02  4e-16  1e-15\n",
      " 9: -7.8248e+01 -7.8258e+01  1e-02  2e-15  1e-15\n",
      "10: -7.8249e+01 -7.8256e+01  8e-03  8e-16  7e-16\n",
      "11: -7.8251e+01 -7.8252e+01  2e-03  1e-15  1e-15\n",
      "12: -7.8251e+01 -7.8252e+01  9e-04  3e-15  9e-16\n",
      "13: -7.8251e+01 -7.8251e+01  3e-04  7e-16  1e-15\n",
      "14: -7.8251e+01 -7.8251e+01  3e-05  6e-16  1e-15\n",
      "Optimal solution found.\n"
     ]
    }
   ],
   "source": [
    "#set up and solve SVM optimization problem\n",
    "P = matrix(y_train[:,None]@y_train[None,:]*gram)\n",
    "q = matrix(-np.ones(N_train))\n",
    "G = matrix(np.concatenate([np.eye(N_train),-np.eye(N_train)],axis=0))\n",
    "h = matrix(np.concatenate([C*(1/N_train)*np.ones(N_train),np.zeros(N_train)]))\n",
    "A = matrix(y_train[None,:])\n",
    "b = matrix(np.zeros(1)[None,:])\n",
    "sol = solvers.qp(P,q,G,h,A,b)\n",
    "#get solution alpha\n",
    "alpha = sol['x']"
   ]
  },
  {
   "cell_type": "code",
   "execution_count": 12,
   "id": "1de49b60",
   "metadata": {},
   "outputs": [],
   "source": [
    "alpha = np.array(alpha)"
   ]
  },
  {
   "cell_type": "code",
   "execution_count": 19,
   "id": "e5c977b1",
   "metadata": {},
   "outputs": [],
   "source": [
    "def predict(x,X,alpha,y,K):\n",
    "    x_rep = np.repeat(x,N_train,axis=0)\n",
    "    kern_vec = K(x_rep,X)\n",
    "    val = alpha.T@(y*kern_vec)\n",
    "    if val > 0:\n",
    "        return 1\n",
    "    else:\n",
    "        return -1"
   ]
  },
  {
   "cell_type": "code",
   "execution_count": 20,
   "id": "3857c17f",
   "metadata": {},
   "outputs": [
    {
     "data": {
      "text/plain": [
       "90.8735332464146"
      ]
     },
     "execution_count": 20,
     "metadata": {},
     "output_type": "execute_result"
    }
   ],
   "source": [
    "K = eval('K1')\n",
    "num_correct = 0\n",
    "for i in range(N_test):\n",
    "    pred = predict(X_test[None,i,:],X_train,alpha,y_train,K)\n",
    "    if y_test[i] == pred:\n",
    "        num_correct = num_correct + 1\n",
    "100*num_correct/N_test"
   ]
  }
 ],
 "metadata": {
  "kernelspec": {
   "display_name": "Python 3 (ipykernel)",
   "language": "python",
   "name": "python3"
  },
  "language_info": {
   "codemirror_mode": {
    "name": "ipython",
    "version": 3
   },
   "file_extension": ".py",
   "mimetype": "text/x-python",
   "name": "python",
   "nbconvert_exporter": "python",
   "pygments_lexer": "ipython3",
   "version": "3.8.12"
  }
 },
 "nbformat": 4,
 "nbformat_minor": 5
}
