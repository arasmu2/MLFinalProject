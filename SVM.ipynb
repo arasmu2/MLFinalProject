{
 "cells": [
  {
   "cell_type": "markdown",
   "metadata": {},
   "source": [
    "# Support Vector Machine (SVM) For Detecting Defective Parts\n",
    "\n",
    "#### Erin Rasmussen, Kevin Thomas, Mike Wells, Sam Little\n",
    "\n",
    "This notebook uses the [`scikit-learn`](http://scikit-learn.org/) library to implement a Support Vector Machine (SVM) classifier with various kernels. The SVM classifier is used to detect defective mechanical parts in a manufacturing process. The image data we used is from the [\"Casting Product Image Data For Quality Inspection\"](https://www.kaggle.com/ravirajsinh45/real-life-industrial-dataset-of-casting-product) dataset, and contains 8646 images used for quality inspection that we used to train the SVM."
   ]
  },
  {
   "cell_type": "markdown",
   "metadata": {},
   "source": [
    "First, we import the necessary libraries."
   ]
  },
  {
   "cell_type": "code",
   "execution_count": null,
   "metadata": {},
   "outputs": [],
   "source": [
    "\n",
    "import numpy as np\n",
    "import matplotlib.pyplot as plt\n",
    "from PIL import Image\n",
    "from sklearn.svm import SVC\n",
    "from sklearn.metrics import accuracy_score, confusion_matrix, classification_report\n",
    "import os\n",
    "import shutil\n",
    "import json\n",
    "from tqdm.auto import tqdm"
   ]
  },
  {
   "cell_type": "markdown",
   "metadata": {},
   "source": [
    "We declare global variables below"
   ]
  },
  {
   "cell_type": "code",
   "execution_count": null,
   "metadata": {},
   "outputs": [],
   "source": [
    "DATA_PATH = './casting_512x512/casting_512x512/'\n",
    "OUTPUT_PATH = './out/'\n",
    "TRAIN_TEST_SPLIT = 0.8\n",
    "RESIZE_SHAPE = (64, 64)"
   ]
  },
  {
   "cell_type": "markdown",
   "metadata": {},
   "source": [
    "Load image data"
   ]
  },
  {
   "cell_type": "code",
   "execution_count": null,
   "metadata": {},
   "outputs": [],
   "source": [
    "data = []\n",
    "labels = []\n",
    "print('Loading OK images...')\n",
    "for filename in tqdm(os.listdir(f'{DATA_PATH}/ok_front')):\n",
    "  img = Image.open(f'{DATA_PATH}/ok_front/{filename}')\n",
    "  img = img.resize(RESIZE_SHAPE)\n",
    "  img = np.array(img)\n",
    "  data.append(img)\n",
    "  labels.append(0)\n",
    "print('Loading defective images...')\n",
    "for filename in tqdm(os.listdir(f'{DATA_PATH}/def_front')):\n",
    "  img = Image.open(f'{DATA_PATH}/def_front/{filename}')\n",
    "  img = img.resize(RESIZE_SHAPE)\n",
    "  img = np.array(img)\n",
    "  data.append(img)\n",
    "  labels.append(1)"
   ]
  },
  {
   "cell_type": "markdown",
   "metadata": {},
   "source": [
    "Flatten the images, shuffle them, and split them into training and test sets"
   ]
  },
  {
   "cell_type": "code",
   "execution_count": null,
   "metadata": {},
   "outputs": [],
   "source": [
    "data = np.array(data)\n",
    "original_shape = data[0].shape\n",
    "data = data.reshape(data.shape[0], -1)\n",
    "shuffled = list(zip(data, labels))\n",
    "\n",
    "np.random.shuffle(shuffled)\n",
    "train = shuffled[:int(len(shuffled) * TRAIN_TEST_SPLIT)]\n",
    "test = shuffled[int(len(shuffled) * TRAIN_TEST_SPLIT):]\n",
    "\n",
    "train_data = np.array([i[0] for i in train])\n",
    "train_labels = np.array([i[1] for i in train])\n",
    "test_data = np.array([i[0] for i in test])\n",
    "test_labels = np.array([i[1] for i in test])"
   ]
  },
  {
   "cell_type": "code",
   "execution_count": null,
   "metadata": {},
   "outputs": [],
   "source": [
    "print(f'Train data shape: {train_data.shape}')\n",
    "print(f'Train labels shape: {train_labels.shape}')\n",
    "print(f'Test data shape: {test_data.shape}')\n",
    "print(f'Test labels shape: {test_labels.shape}')"
   ]
  },
  {
   "cell_type": "markdown",
   "metadata": {},
   "source": [
    "Show a random image to make sure everything is working and retain sanity"
   ]
  },
  {
   "cell_type": "code",
   "execution_count": null,
   "metadata": {},
   "outputs": [],
   "source": [
    "random_image = np.random.randint(0, len(train_data))\n",
    "image = train_data[random_image].reshape(original_shape)\n",
    "plt.imshow(image)\n",
    "label = train_labels[random_image]\n",
    "type = 'OK' if label == 0 else 'DEFECTIVE'\n",
    "plt.title(f'TYPE: {type}')\n",
    "plt.show()"
   ]
  },
  {
   "cell_type": "markdown",
   "metadata": {},
   "source": [
    "Declare kernels we wish to test, and feed each into an `sklearn` SVM, fitting it to the training data. Accuracy, confusion matrices, and other metrics are generated for each kernel."
   ]
  },
  {
   "cell_type": "code",
   "execution_count": null,
   "metadata": {},
   "outputs": [],
   "source": [
    "kernels_to_test = [\n",
    "  'linear',\n",
    "   'poly',\n",
    "   'rbf',\n",
    "   #'sigmoid',\n",
    "]\n",
    "\n",
    "results = {}\n",
    "\n",
    "for kernel in kernels_to_test:\n",
    "  print(f'Testing kernel: {kernel}')\n",
    "  svm = SVC(kernel=kernel, gamma='scale', verbose=True)\n",
    "  svm.fit(train_data, train_labels)\n",
    "  predictions = svm.predict(test_data)\n",
    "  accuracy = accuracy_score(test_labels, predictions)\n",
    "  conf_matrix = confusion_matrix(test_labels, predictions)\n",
    "  report = classification_report(test_labels, predictions)\n",
    "  results[kernel] = {\n",
    "    'accuracy': accuracy,\n",
    "    'confusion_matrix': conf_matrix,\n",
    "    'classification_report': report\n",
    "  }"
   ]
  },
  {
   "cell_type": "markdown",
   "metadata": {},
   "source": [
    "For each kernel, we save the confusion matrix, accuracy, and other metrics to the output directory."
   ]
  },
  {
   "cell_type": "code",
   "execution_count": null,
   "metadata": {},
   "outputs": [],
   "source": [
    "for kernel, result in results.items():\n",
    "\n",
    "  # if path doesn't exist, create it\n",
    "  if not os.path.exists(f'{OUTPUT_PATH}{kernel}'):\n",
    "    os.makedirs(f'{OUTPUT_PATH}{kernel}')\n",
    "\n",
    "  # save confusion matrix\n",
    "  plt.figure(figsize=(10, 10))\n",
    "  plt.imshow(result['confusion_matrix'], interpolation='nearest', cmap=plt.cm.Blues)\n",
    "  plt.title(f'Confusion matrix for {kernel} kernel')\n",
    "  plt.colorbar()\n",
    "  tick_marks = np.arange(2)\n",
    "  plt.xticks(tick_marks, ['OK', 'DEFECTIVE'], rotation=45)\n",
    "  plt.yticks(tick_marks, ['OK', 'DEFECTIVE'])\n",
    "  plt.tight_layout()\n",
    "  plt.ylabel('True label')\n",
    "  plt.xlabel('Predicted label')\n",
    "  plt.savefig(f'{OUTPUT_PATH}{kernel}/confusion_matrix.png')\n",
    "  plt.show()\n",
    "\n",
    "  print(f'Accuracy for {kernel} kernel: {result[\"accuracy\"]}')\n",
    "  print(f'Classification report for {kernel} kernel:')\n",
    "  print(result['classification_report'])\n",
    "\n",
    "  # save results to JSON\n",
    "  with open(f'{OUTPUT_PATH}{kernel}/results.json', 'w') as f:\n",
    "    result = {\n",
    "      'accuracy': result['accuracy'],\n",
    "      'confusion_matrix': result['confusion_matrix'].tolist(),\n",
    "      'classification_report': result['classification_report']\n",
    "    }\n",
    "    json.dump(result, f)"
   ]
  }
 ],
 "metadata": {
  "interpreter": {
   "hash": "85bf7e5c2827b9d12f59a764ed295a10671cdfb54121d52854d0052a74a7765a"
  },
  "kernelspec": {
   "display_name": "Python 3.9.7 ('ml-group-project')",
   "language": "python",
   "name": "python3"
  },
  "language_info": {
   "codemirror_mode": {
    "name": "ipython",
    "version": 3
   },
   "file_extension": ".py",
   "mimetype": "text/x-python",
   "name": "python",
   "nbconvert_exporter": "python",
   "pygments_lexer": "ipython3",
   "version": "3.9.7"
  },
  "orig_nbformat": 4
 },
 "nbformat": 4,
 "nbformat_minor": 2
}
